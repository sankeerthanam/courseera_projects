{
 "cells": [
  {
   "cell_type": "markdown",
   "id": "3d75b2ec",
   "metadata": {},
   "source": [
    "# Data Science Tools and Ecosystem"
   ]
  },
  {
   "cell_type": "markdown",
   "id": "55531c02",
   "metadata": {},
   "source": [
    "In this notebook, Data Science Tools and Ecosystem are summarized."
   ]
  },
  {
   "cell_type": "markdown",
   "id": "93e4c095",
   "metadata": {},
   "source": [
    "Some of the popular languages that Data Scientists use are:\n",
    "1.Python\n",
    "2.R\n",
    "3.SQL\n",
    "4.Java"
   ]
  },
  {
   "cell_type": "markdown",
   "id": "df88bd08",
   "metadata": {},
   "source": [
    "Some of the commonly used libraries used by Data Scientists include:\n",
    "    1.pandas\n",
    "    2.matplotlib\n",
    "    3.ggplot\n",
    "    4.keras\n",
    "    5.numpy"
   ]
  },
  {
   "cell_type": "markdown",
   "id": "06fcd27c",
   "metadata": {},
   "source": [
    "|Data Science Tools |\n",
    "-----------------------------\n",
    "| Jupyter |\n",
    "| RStudio |\n",
    "| Google Colab |\n",
    "| Anaconda |"
   ]
  },
  {
   "cell_type": "markdown",
   "id": "8a36282b",
   "metadata": {},
   "source": [
    "### Below are a few examples of evaluating arithmetic expressions in Python\n",
    "\n"
   ]
  },
  {
   "cell_type": "code",
   "execution_count": 4,
   "id": "53abd0d0",
   "metadata": {},
   "outputs": [
    {
     "data": {
      "text/plain": [
       "17"
      ]
     },
     "execution_count": 4,
     "metadata": {},
     "output_type": "execute_result"
    }
   ],
   "source": [
    "(3*4)+5\n",
    "#  This a simple arithmetic expression to mutiply then add integers"
   ]
  },
  {
   "cell_type": "code",
   "execution_count": 11,
   "id": "762160ff",
   "metadata": {},
   "outputs": [
    {
     "name": "stdout",
     "output_type": "stream",
     "text": [
      "3.33\n"
     ]
    }
   ],
   "source": [
    "minutes = 200\n",
    "hours = minutes / 60\n",
    "rounded_hours = round(hours, 2)\n",
    "print(rounded_hours)\n",
    "\n",
    "# This will convert 200 minutes to hours by diving by 60"
   ]
  },
  {
   "cell_type": "markdown",
   "id": "06a7a1b3",
   "metadata": {},
   "source": [
    "Objectives:\n",
    "- List popular languages for Data Science\n",
    "- List Libraries for Data Science\n",
    "- Examples of evaluating arithmetic expressions\n",
    "- Comments"
   ]
  },
  {
   "cell_type": "markdown",
   "id": "40525519",
   "metadata": {},
   "source": [
    " # Author\n",
    "    Sankeerthana"
   ]
  },
  {
   "cell_type": "code",
   "execution_count": null,
   "id": "67f79f5d",
   "metadata": {},
   "outputs": [],
   "source": []
  }
 ],
 "metadata": {
  "kernelspec": {
   "display_name": "Python 3 (ipykernel)",
   "language": "python",
   "name": "python3"
  },
  "language_info": {
   "codemirror_mode": {
    "name": "ipython",
    "version": 3
   },
   "file_extension": ".py",
   "mimetype": "text/x-python",
   "name": "python",
   "nbconvert_exporter": "python",
   "pygments_lexer": "ipython3",
   "version": "3.11.5"
  }
 },
 "nbformat": 4,
 "nbformat_minor": 5
}
